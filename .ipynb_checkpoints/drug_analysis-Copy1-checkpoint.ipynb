{
 "cells": [
  {
   "cell_type": "markdown",
   "metadata": {
    "heading_collapsed": true
   },
   "source": [
    "## 0 - Imports"
   ]
  },
  {
   "cell_type": "code",
   "execution_count": 1,
   "metadata": {
    "ExecuteTime": {
     "end_time": "2018-04-29T13:58:04.683518Z",
     "start_time": "2018-04-29T13:58:04.277006Z"
    },
    "collapsed": true,
    "hidden": true
   },
   "outputs": [],
   "source": [
    "#copied 4/30/2018 at 1:39 pm just in case\n",
    "%load_ext autoreload\n",
    "%autoreload"
   ]
  },
  {
   "cell_type": "code",
   "execution_count": 39,
   "metadata": {
    "ExecuteTime": {
     "end_time": "2018-04-29T13:58:22.074476Z",
     "start_time": "2018-04-29T13:58:05.169584Z"
    },
    "collapsed": true,
    "hidden": true
   },
   "outputs": [],
   "source": [
    "import scipy.io as spio\n",
    "import pandas as pd\n",
    "import numpy as np\n",
    "from numpy import absolute as nabs\n",
    "import matplotlib.pyplot as plt\n",
    "from pandas.tools.plotting import autocorrelation_plot\n",
    "import statsmodels\n",
    "from statsmodels.tsa.arima_model import ARIMA\n",
    "import time\n",
    "from sklearn.linear_model import LassoCV\n",
    "from sklearn.metrics import mean_squared_error\n",
    "from numpy.linalg import LinAlgError\n",
    "from datetime import datetime"
   ]
  },
  {
   "cell_type": "markdown",
   "metadata": {},
   "source": [
    "## 1 - Load, clean, test data"
   ]
  },
  {
   "cell_type": "code",
   "execution_count": 4,
   "metadata": {
    "ExecuteTime": {
     "end_time": "2018-04-29T14:00:12.366547Z",
     "start_time": "2018-04-29T14:00:12.322053Z"
    },
    "code_folding": [
     0
    ],
    "collapsed": true
   },
   "outputs": [],
   "source": [
    "def impmat(fname = 'M_processed.mat', writ = True):\n",
    "    ''' import matlab crap, and turn it to pickles (or return panda df)'''\n",
    "    mat = spio.loadmat(fname, squeeze_me=True)\n",
    "    M = mat['M'] \n",
    "    head = ['time','ndc1','ndc2','ndc3',\n",
    "            'Trade_Partner_Name', 'Distribution_Center_State','NDC','Distribution_Center_ID_(IC)',\n",
    "    'Distribution_Center_Zip','Eff_Inv_(EU)','Eff_Inv_(PU)','Qty_Ord_(EU)',\n",
    "            'Qty_Ord_(PU)']\n",
    "    # get rid of ndc 1,2,3 because they're pieces of NCD\n",
    "    # also get rid of purchase units, just use eatable\n",
    "    # also get rid of states and zip code\n",
    "    needed = [0,4,6,7,9,11]\n",
    "    head_adj = [head[i] for i in needed] + [\"year\", \"week\"]\n",
    "    data = pd.DataFrame(M, columns=head)\n",
    "    data[\"time\"] = pd.to_datetime(data[\"time\"], format='%Y%m%d', errors='coerce')\n",
    "    data[\"year\"] = data[\"time\"].dt.year\n",
    "    data[\"week\"] = data[\"time\"].dt.week\n",
    "    #data.drop(\"time\", axis=1)\n",
    "    if writ: # h5 allows your variable to be external\n",
    "        dt = pd.HDFStore(\"drugdata.h5\") # don't need to import/export! warning, though: huge\n",
    "        dt['dat'] = data[head_adj] #\n",
    "    return(data)\n"
   ]
  },
  {
   "cell_type": "code",
   "execution_count": 5,
   "metadata": {
    "ExecuteTime": {
     "end_time": "2018-04-16T19:15:46.721280Z",
     "start_time": "2018-04-16T19:15:46.693245Z"
    },
    "code_folding": [
     0
    ],
    "collapsed": true
   },
   "outputs": [],
   "source": [
    "def test_hd5(p = 0, q = 0):\n",
    "    \"\"\"test data and run answers to intro quiz\n",
    "    p is to print head of dataframe\n",
    "    q prints quiz answers\n",
    "    doesn't return anything\n",
    "    mostly for access examples\"\"\"\n",
    "    dt = pd.HDFStore(\"drugdata.h5\")[\"dat\"]\n",
    "\n",
    "    header = dt.columns.tolist()\n",
    "    # thanks @brock\n",
    "    def q1(df):\n",
    "        return(df.Trade_Partner_Name.unique())\n",
    "    \n",
    "    def q2(df):\n",
    "        q2 = df.groupby('Trade_Partner_Name')['Distribution_Center_ID_(IC)'].nunique()\n",
    "        q2max = q2.max()\n",
    "        return(q2[q2 == q2max])\n",
    "    \n",
    "    def q3(df):\n",
    "        q3df = df.loc[df[\"time\"].dt.year == 2011] # can also use dt.month\n",
    "        q3TotalSales = q3df.groupby('NDC')['Qty_Ord_(EU)'].sum()\n",
    "        #print(q3TotalSales)\n",
    "        q3sorted = q3TotalSales.sort_values(ascending = False).head()\n",
    "        return(q3sorted)\n",
    "    \n",
    "    def q4(df):\n",
    "        q4 = df['NDC'].value_counts()\n",
    "        NDCLessThan60 = q4[q4 < 60]\n",
    "        if (NDCLessThan60.size == 0):\n",
    "            return(None)\n",
    "        else:\n",
    "            return(NDCLessThan60.size)\n",
    "        \n",
    "    def q5(df):\n",
    "        q5 =  df.groupby('NDC')['Qty_Ord_(EU)'].std()\n",
    "        q5max = q5.max()\n",
    "        NDCHighestVariance = q5[q5 == q5max]\n",
    "        return(NDCHighestVariance)\n",
    "    \n",
    "    def q6(df):\n",
    "        q6 = df.groupby('NDC')['Qty_Ord_(EU)'].nunique()\n",
    "        q6ZeroDemand = q6[q6 == 0]\n",
    "        if (q6ZeroDemand.size == 0):\n",
    "            return(None)\n",
    "        else:\n",
    "            return(q6ZeroDemand.size)\n",
    "    \n",
    "    if p:\n",
    "        for col in header:\n",
    "            print(dt[col].head())\n",
    "    if q:\n",
    "        answers = [q1(dt), q2(dt), q3(dt), q4(dt), q5(dt), q6(dt)]\n",
    "        for i, ans in enumerate(answers):\n",
    "            try:\n",
    "                print('Question %d'%(i+1),  ans)\n",
    "            except:\n",
    "                print('Question %d'%(i+1) + str(ans))"
   ]
  },
  {
   "cell_type": "code",
   "execution_count": 6,
   "metadata": {
    "ExecuteTime": {
     "end_time": "2018-04-29T14:00:29.847793Z",
     "start_time": "2018-04-29T14:00:29.843693Z"
    },
    "collapsed": true
   },
   "outputs": [],
   "source": [
    "#impmat(); # uncomment if never built h5 file\n",
    "#test_hd5(q=1) # add p=1 or q = 1 to print stuff"
   ]
  },
  {
   "cell_type": "code",
   "execution_count": 7,
   "metadata": {
    "ExecuteTime": {
     "end_time": "2018-04-29T14:00:27.471727Z",
     "start_time": "2018-04-29T14:00:27.453337Z"
    },
    "code_folding": [
     0
    ],
    "collapsed": true
   },
   "outputs": [],
   "source": [
    "def rem_neg_vals():\n",
    "    ''' if you've just imported from the mat file,\n",
    "    you need to run this to change the neg vals to 0 '''\n",
    "    df = pd.HDFStore(\"drugdata.h5\")[\"dat\"]\n",
    "    # set negative values to 0\n",
    "    df.loc[df['Eff_Inv_(EU)'] < 0,'Eff_Inv_(EU)'] = 0\n",
    "    df.loc[df['Qty_Ord_(EU)'] < 0,'Qty_Ord_(EU)'] = 0\n",
    "    df.loc[df['Eff_Inv_(EU)'].isnull(), 'Eff_Inv_(EU)'] = 0\n",
    "    df.loc[df['Qty_Ord_(EU)'].isnull(), 'Qty_Ord_(EU)'] = 0\n",
    "    #print(df.head())\n",
    "    return(True)"
   ]
  },
  {
   "cell_type": "code",
   "execution_count": 8,
   "metadata": {
    "ExecuteTime": {
     "end_time": "2018-04-29T14:00:31.967667Z",
     "start_time": "2018-04-29T14:00:31.311306Z"
    },
    "collapsed": true
   },
   "outputs": [],
   "source": [
    "rem_neg_vals();"
   ]
  },
  {
   "cell_type": "markdown",
   "metadata": {},
   "source": [
    "## 2 - Early queries"
   ]
  },
  {
   "cell_type": "code",
   "execution_count": 9,
   "metadata": {
    "ExecuteTime": {
     "end_time": "2018-04-29T14:00:33.564877Z",
     "start_time": "2018-04-29T14:00:33.545367Z"
    },
    "code_folding": [],
    "collapsed": true
   },
   "outputs": [],
   "source": [
    "def weeks():\n",
    "    ''' gives us a list of the weeks as a datetime Series '''\n",
    "    df = pd.HDFStore(\"drugdata.h5\")[\"dat\"]\n",
    "\n",
    "    return(pd.to_datetime(df.time.unique()).sort_values())"
   ]
  },
  {
   "cell_type": "code",
   "execution_count": 10,
   "metadata": {
    "ExecuteTime": {
     "end_time": "2018-04-16T19:20:15.777685Z",
     "start_time": "2018-04-16T19:20:15.652528Z"
    },
    "collapsed": true
   },
   "outputs": [],
   "source": [
    "weeks();"
   ]
  },
  {
   "cell_type": "code",
   "execution_count": 11,
   "metadata": {
    "ExecuteTime": {
     "end_time": "2018-04-29T14:00:39.891487Z",
     "start_time": "2018-04-29T14:00:39.846595Z"
    },
    "code_folding": [
     0
    ],
    "collapsed": true
   },
   "outputs": [],
   "source": [
    "def sales_exist():\n",
    "    ''' want to check that every week has sales\n",
    "        returns list of drug ids that have data for every year '''\n",
    "    df = pd.HDFStore(\"drugdata.h5\")[\"dat\"]\n",
    "    useless = {}\n",
    "    years = [i for i in range(2007, 2018)]\n",
    "    for drug in df.NDC.unique():\n",
    "        useless[drug] = []\n",
    "    for year in years:\n",
    "        sales = df.loc[df.time.dt.year == year].groupby('NDC')['Qty_Ord_(EU)'].sum()\n",
    "        for drug in df.NDC.unique():\n",
    "            try:\n",
    "                if sales[drug] == 0:\n",
    "                    #print(drug, year) # have 0 sum\n",
    "                    useless[drug].append(year)\n",
    "            except:\n",
    "                #print(\"broke by\", drug, \"in\", year)\n",
    "                useless[drug].append(year) # have NA or something?\n",
    "    not_useless = []\n",
    "    for did in useless.keys():\n",
    "        if not useless[did]:\n",
    "            not_useless.append(did)\n",
    "    return(not_useless)"
   ]
  },
  {
   "cell_type": "code",
   "execution_count": 12,
   "metadata": {
    "ExecuteTime": {
     "end_time": "2018-04-16T21:39:40.865848Z",
     "start_time": "2018-04-16T21:39:37.396510Z"
    },
    "collapsed": true
   },
   "outputs": [],
   "source": [
    "sales_exist();"
   ]
  },
  {
   "cell_type": "code",
   "execution_count": 13,
   "metadata": {
    "ExecuteTime": {
     "end_time": "2018-04-29T14:00:42.080654Z",
     "start_time": "2018-04-29T14:00:42.064138Z"
    },
    "code_folding": [
     0
    ],
    "collapsed": true
   },
   "outputs": [],
   "source": [
    "def top_selling(thr, p = 0):\n",
    "    ''' in: minimum contributing percentage threshold\n",
    "        if p, prints number and % of drugs above thr\n",
    "        out: IDs of drugs above thr'''\n",
    "    df = pd.HDFStore(\"drugdata.h5\")[\"dat\"]\n",
    "    ind_total = df.groupby('NDC')['Qty_Ord_(EU)'].sum()\n",
    "    sortsales = ind_total.sort_values(ascending = False)\n",
    "    #print(sortsales)\n",
    "    total = sum(ind_total.values)\n",
    "    perc_total = 100 * sortsales / total\n",
    "    clipped_above_total = perc_total[perc_total > thr]\n",
    "    if p:\n",
    "        print(len(clipped_above_total), sum(clipped_above_total.values))\n",
    "    enough = sales_exist()\n",
    "    final = [i for i in enough if i in clipped_above_total.axes[0]]\n",
    "    #return(clipped_above_total.axes)\n",
    "    return(final)"
   ]
  },
  {
   "cell_type": "code",
   "execution_count": 14,
   "metadata": {
    "ExecuteTime": {
     "end_time": "2018-04-16T21:50:30.985715Z",
     "start_time": "2018-04-16T21:50:27.237028Z"
    }
   },
   "outputs": [
    {
     "data": {
      "text/plain": [
       "[154.0, 145.0, 4.0, 7.0, 141.0, 149.0, 32.0, 55.0, 8.0, 125.0]"
      ]
     },
     "execution_count": 14,
     "metadata": {},
     "output_type": "execute_result"
    }
   ],
   "source": [
    "top_selling(1.5)"
   ]
  },
  {
   "cell_type": "code",
   "execution_count": 16,
   "metadata": {},
   "outputs": [
    {
     "ename": "SyntaxError",
     "evalue": "unexpected EOF while parsing (<ipython-input-16-3843ed1fb801>, line 5)",
     "output_type": "error",
     "traceback": [
      "\u001b[1;36m  File \u001b[1;32m\"<ipython-input-16-3843ed1fb801>\"\u001b[1;36m, line \u001b[1;32m5\u001b[0m\n\u001b[1;33m    \u001b[0m\n\u001b[1;37m    ^\u001b[0m\n\u001b[1;31mSyntaxError\u001b[0m\u001b[1;31m:\u001b[0m unexpected EOF while parsing\n"
     ]
    }
   ],
   "source": [
    "def norm_drugs():\n",
    "    dl = top_selling(1.5)\n",
    "    for drug in dl:\n",
    "        \n",
    "    "
   ]
  },
  {
   "cell_type": "code",
   "execution_count": 17,
   "metadata": {
    "ExecuteTime": {
     "end_time": "2018-04-29T14:00:45.274482Z",
     "start_time": "2018-04-29T14:00:45.261620Z"
    },
    "code_folding": [],
    "collapsed": true
   },
   "outputs": [],
   "source": [
    "def helper():\n",
    "    df = pd.HDFStore(\"drugdata.h5\")[\"dat\"]\n",
    "    \n",
    "    print(df.columns.values)\n",
    "\n",
    "    print(df[\"week\"])\n",
    "#helper()"
   ]
  },
  {
   "cell_type": "markdown",
   "metadata": {},
   "source": [
    "## 3 - The meaty bits!"
   ]
  },
  {
   "cell_type": "code",
   "execution_count": 18,
   "metadata": {
    "ExecuteTime": {
     "end_time": "2018-04-29T14:00:49.799408Z",
     "start_time": "2018-04-29T14:00:49.783764Z"
    },
    "code_folding": [],
    "collapsed": true
   },
   "outputs": [],
   "source": [
    "def sales(Year):\n",
    "    \"\"\"in: range of dates want studied \n",
    "    want to return the list of sales per date\n",
    "    todo: break up by location if we want\"\"\"\n",
    "    df = pd.HDFStore(\"drugdata.h5\")[\"dat\"]\n",
    "    \n",
    "    sel_drugs = [i for i in top_selling(1.5)[0]] # list of drug ids\n",
    "    dates = df.loc[df.year == Year] # choose only given year\n",
    "    # gives DF of drugs by week; can change to \n",
    "    # ['NDC', 'time', DISTRO_id] if we want later\n",
    "    window = dates.groupby(['NDC', 'year', 'week'])['Qty_Ord_(EU)'].sum()\n",
    "    filt_window = window.loc[sel_drugs] # only want top drugs\n",
    "    return(filt_window)"
   ]
  },
  {
   "cell_type": "code",
   "execution_count": 19,
   "metadata": {
    "ExecuteTime": {
     "end_time": "2018-04-11T18:50:01.439165Z",
     "start_time": "2018-04-11T18:50:00.697994Z"
    }
   },
   "outputs": [
    {
     "ename": "TypeError",
     "evalue": "'numpy.float64' object is not iterable",
     "output_type": "error",
     "traceback": [
      "\u001b[1;31m---------------------------------------------------------------------------\u001b[0m",
      "\u001b[1;31mTypeError\u001b[0m                                 Traceback (most recent call last)",
      "\u001b[1;32m<ipython-input-19-7bb87087c30d>\u001b[0m in \u001b[0;36m<module>\u001b[1;34m()\u001b[0m\n\u001b[1;32m----> 1\u001b[1;33m \u001b[0msales\u001b[0m\u001b[1;33m(\u001b[0m\u001b[1;36m2008\u001b[0m\u001b[1;33m)\u001b[0m\u001b[1;33m;\u001b[0m\u001b[1;33m\u001b[0m\u001b[0m\n\u001b[0m",
      "\u001b[1;32m<ipython-input-18-2a0689913d6b>\u001b[0m in \u001b[0;36msales\u001b[1;34m(Year)\u001b[0m\n\u001b[0;32m      5\u001b[0m     \u001b[0mdf\u001b[0m \u001b[1;33m=\u001b[0m \u001b[0mpd\u001b[0m\u001b[1;33m.\u001b[0m\u001b[0mHDFStore\u001b[0m\u001b[1;33m(\u001b[0m\u001b[1;34m\"drugdata.h5\"\u001b[0m\u001b[1;33m)\u001b[0m\u001b[1;33m[\u001b[0m\u001b[1;34m\"dat\"\u001b[0m\u001b[1;33m]\u001b[0m\u001b[1;33m\u001b[0m\u001b[0m\n\u001b[0;32m      6\u001b[0m \u001b[1;33m\u001b[0m\u001b[0m\n\u001b[1;32m----> 7\u001b[1;33m     \u001b[0msel_drugs\u001b[0m \u001b[1;33m=\u001b[0m \u001b[1;33m[\u001b[0m\u001b[0mi\u001b[0m \u001b[1;32mfor\u001b[0m \u001b[0mi\u001b[0m \u001b[1;32min\u001b[0m \u001b[0mtop_selling\u001b[0m\u001b[1;33m(\u001b[0m\u001b[1;36m1.5\u001b[0m\u001b[1;33m)\u001b[0m\u001b[1;33m[\u001b[0m\u001b[1;36m0\u001b[0m\u001b[1;33m]\u001b[0m\u001b[1;33m]\u001b[0m \u001b[1;31m# list of drug ids\u001b[0m\u001b[1;33m\u001b[0m\u001b[0m\n\u001b[0m\u001b[0;32m      8\u001b[0m     \u001b[0mdates\u001b[0m \u001b[1;33m=\u001b[0m \u001b[0mdf\u001b[0m\u001b[1;33m.\u001b[0m\u001b[0mloc\u001b[0m\u001b[1;33m[\u001b[0m\u001b[0mdf\u001b[0m\u001b[1;33m.\u001b[0m\u001b[0myear\u001b[0m \u001b[1;33m==\u001b[0m \u001b[0mYear\u001b[0m\u001b[1;33m]\u001b[0m \u001b[1;31m# choose only given year\u001b[0m\u001b[1;33m\u001b[0m\u001b[0m\n\u001b[0;32m      9\u001b[0m     \u001b[1;31m# gives DF of drugs by week; can change to\u001b[0m\u001b[1;33m\u001b[0m\u001b[1;33m\u001b[0m\u001b[0m\n",
      "\u001b[1;31mTypeError\u001b[0m: 'numpy.float64' object is not iterable"
     ]
    }
   ],
   "source": [
    "sales(2008);"
   ]
  },
  {
   "cell_type": "code",
   "execution_count": 14,
   "metadata": {
    "ExecuteTime": {
     "end_time": "2018-04-29T14:00:52.398214Z",
     "start_time": "2018-04-29T14:00:52.389317Z"
    },
    "code_folding": [
     0
    ],
    "collapsed": true
   },
   "outputs": [],
   "source": [
    "def smape(f, d):\n",
    "    ''' symmetric mean absolute percentage error\n",
    "    in: vectors f = y_hat, d = y \n",
    "    out: the smape, yo '''\n",
    "    n = len(f)\n",
    "    num = np.sum(nabs(f - d))\n",
    "    denom = np.sum(nabs(f) + nabs(d))\n",
    "    return((1/n) * num/denom)"
   ]
  },
  {
   "cell_type": "code",
   "execution_count": 15,
   "metadata": {
    "ExecuteTime": {
     "end_time": "2018-04-29T14:00:53.322242Z",
     "start_time": "2018-04-29T14:00:53.309332Z"
    },
    "code_folding": [
     0
    ],
    "collapsed": true
   },
   "outputs": [],
   "source": [
    "def frame_gen(year):\n",
    "    ''' in: the year starting the frame\n",
    "        out: 2 dfs, 3 years for training and 4th for test'''\n",
    "    window = []\n",
    "    for i in range(4): #3? switched to match AR model\n",
    "        window.append(sales(year + i))\n",
    "    # make a table of 3 years\n",
    "    window = pd.concat(window)\n",
    "    #test_frame = sales(year + 3)\n",
    "    return(window)#, test_frame)"
   ]
  },
  {
   "cell_type": "code",
   "execution_count": 30,
   "metadata": {
    "ExecuteTime": {
     "end_time": "2018-04-16T19:23:53.141462Z",
     "start_time": "2018-04-16T19:23:53.132451Z"
    },
    "code_folding": [
     0
    ],
    "collapsed": true
   },
   "outputs": [],
   "source": [
    "def svr_try_0(tst, trn):\n",
    "    ''' input: testing and training data \n",
    "        out: support vector regression score(?) '''\n",
    "    \n",
    "    from sklearn_pandas import DataFrameMapper, cross_val_score\n",
    "    \n",
    "    \n",
    "  #  mapper = DataFrameMapper([('week', le)\n",
    "                             \n",
    "   #                          ])\n",
    "    le = pp.LabelEncoder()\n",
    "    #lb = pp.LabelBinerizer()\n",
    "    y = le.fit_transform(y)\n",
    "    \n",
    "    x_train, x_test, y_train, y_test = train_test_split(X, y, test_size=0.20, random_state=1)\n",
    "    print(len(x_train))\n",
    "    \n",
    "    with open(\"out.txt\", \"w\") as f:\n",
    "        for i in range(-2, 2):\n",
    "            svm = SVR(kernel=\"poly\", C=10**i, random_state=0)\n",
    "            svm.fit(x_train, y_train)\n",
    "            f.write(\"c = \" + str(10**i) + \", accuracy = \" + \n",
    "            str(round(svm.score(x_test, y_test), 3)) + \"\\n\")"
   ]
  },
  {
   "cell_type": "code",
   "execution_count": 42,
   "metadata": {
    "ExecuteTime": {
     "end_time": "2018-04-29T15:20:58.269292Z",
     "start_time": "2018-04-29T15:20:57.796957Z"
    },
    "collapsed": true
   },
   "outputs": [],
   "source": [
    "def ARIMA(p=1, q=0): #tst, trn\n",
    "    ''' Alright, Jack, do your thing. \n",
    "    I don't wanna touch this one. '''\n",
    "   ########################### Reading in data / Preprocessing in general\n",
    "    #data = impmat()\n",
    "\n",
    "    df = dt = pd.HDFStore(\"drugdata.h5\")['dat']\n",
    "    df['year'], df['month'] = df['time'].dt.year, df['time'].dt.month #This might never be used actually\n",
    "    \n",
    "    #NDC = 4 has the highest total sales\n",
    "    ndc4 = df.loc[df[\"NDC\"]==4]  #Finds all the drugs of one particular NDC (4)\n",
    "    \n",
    "    ndc4TotalSales = ndc4.groupby('time')['Qty_Ord_(EU)'].sum()   #Sums total sales at any given date for that drug\n",
    "    ndc4TotalSales = np.array(ndc4TotalSales)\n",
    "    \n",
    "    ndc4Times = ndc4.time.unique()  #All the times where dataset has sales on this drug\n",
    "    ndc4Times = np.array(ndc4Times)\n",
    "    ndc4Times.sort()\n",
    "    \n",
    "    \n",
    "    plt.plot(ndc4Times, ndc4TotalSales, 'bo')  #Plots drug sales over time\n",
    "    plt.show()\n",
    "\n",
    "    #autocorrelation_plot(ndc4TotalSales)  #The x value of where this plot first crosses y=0.5  \n",
    "    #plt.show()                            # is the ideal choice of the first 'order' model parameter\n",
    "    \n",
    "    df2 = pd.DataFrame(index=ndc4Times, data=ndc4TotalSales, columns=['sales'])\n",
    "    \n",
    "    df2.plot()\n",
    "    plt.show()\n",
    "    \n",
    "    \n",
    "    #Old / used for testing\n",
    "    #dftest = pd.DataFrame(index=ndc4Times[400:], data=ndc4TotalSales[400:], columns=['sales'])\n",
    "    #print(dftest)\n",
    "    \n",
    "    \n",
    "    ########ARIMA#############\n",
    "    \n",
    "    if p:\n",
    "        start = time.time()\n",
    "\n",
    "        autocorrelation_plot(df2)         #The x value of where this plot first crosses y=0.5  \n",
    "        plt.show()                        # is the ideal choice of the first 'order' model parameter\n",
    "\n",
    "        model = statsmodels.tsa.arima_model.ARIMA(df2, order=(5,1,0))   #Defines model\n",
    "        model_fit = model.fit(disp=0)                                   #fits model based on df2\n",
    "        print(model_fit.summary())\n",
    "        \n",
    "        # plots residual errors\n",
    "        residuals = pd.DataFrame(model_fit.resid)                       #Not really sure what this is all used for\n",
    "        residuals.plot()                                                #but ideally it would inform the next model\n",
    "        plt.show()\n",
    "        residuals.plot(kind='kde')\n",
    "        plt.show()\n",
    "        print(residuals.describe())\n",
    "        \n",
    "        X = df2.values\n",
    "        size = int(len(X) * 0.66)\n",
    "        train, test = X[0:size], X[size:len(X)]         #train/test split\n",
    "\n",
    "        history = [x for x in train]\n",
    "        predictions = list()\n",
    "        for t in range(len(test)):\n",
    "            model = statsmodels.tsa.arima_model.ARIMA(history, order=(10,1,0))      #fits model based on lagged observations\n",
    "            try: model_fit = model.fit(disp=0)\n",
    "            except (ValueError, LinAlgError): pass                                #it breaks, but I don't care?\n",
    "            output = model_fit.forecast()             #outputs one time-step forward\n",
    "            yhat = output[0]\n",
    "            predictions.append(yhat)\n",
    "            obs = test[t]\n",
    "            history.append(obs)                      #adds new datapoint to training data, cuts oldest datapoint from data\n",
    "            history.pop(0)\n",
    "            print('predicted=%f, expected=%f' % (yhat, obs))\n",
    "        print(\"Out of FOR loop\")\n",
    "        error = mean_squared_error(test, predictions)    #change to SMAPE?\n",
    "        print('Test MSE: %.3f' % error)\n",
    "        \n",
    "        # plot\n",
    "        plt.plot(test)\n",
    "        plt.plot(predictions, color='red')\n",
    "        plt.show()\n",
    "    \n",
    "        end = time.time()               #this takes a long time, but not as long now that training data is constant size\n",
    "        print(\"This took: \", end-start, \" seconds\")\n",
    "    \n",
    "    \n"
   ]
  },
  {
   "cell_type": "code",
   "execution_count": 43,
   "metadata": {},
   "outputs": [
    {
     "name": "stdout",
     "output_type": "stream",
     "text": [
      "NDC4 Times (sorted): \n"
     ]
    },
    {
     "data": {
      "image/png": "[encoded data removed]",
      "text/plain": [
       "<matplotlib.figure.Figure at 0xa7611d0>"
      ]
     },
     "metadata": {},
     "output_type": "display_data"
    },
    {
     "name": "stderr",
     "output_type": "stream",
     "text": [
      "C:\\Users\\Jack\\Anaconda3\\lib\\site-packages\\ipykernel_launcher.py:29: FutureWarning: 'pandas.tools.plotting.autocorrelation_plot' is deprecated, import 'pandas.plotting.autocorrelation_plot' instead.\n"
     ]
    },
    {
     "data": {
      "image/png": "[encoded data removed]",
      "text/plain": [
       "<matplotlib.figure.Figure at 0xa551550>"
      ]
     },
     "metadata": {},
     "output_type": "display_data"
    },
    {
     "data": {
      "image/png": "[encoded data removed]",
      "text/plain": [
       "<matplotlib.figure.Figure at 0xa67f0b8>"
      ]
     },
     "metadata": {},
     "output_type": "display_data"
    },
    {
     "name": "stderr",
     "output_type": "stream",
     "text": [
      "C:\\Users\\Jack\\Anaconda3\\lib\\site-packages\\ipykernel_launcher.py:50: FutureWarning: 'pandas.tools.plotting.autocorrelation_plot' is deprecated, import 'pandas.plotting.autocorrelation_plot' instead.\n"
     ]
    },
    {
     "data": {
      "image/png": "[encoded data removed]",
      "text/plain": [
       "<matplotlib.figure.Figure at 0xab1b320>"
      ]
     },
     "metadata": {},
     "output_type": "display_data"
    },
    {
     "name": "stdout",
     "output_type": "stream",
     "text": [
      "                             ARIMA Model Results                              \n",
      "==============================================================================\n",
      "Dep. Variable:                D.sales   No. Observations:                  529\n",
      "Model:                 ARIMA(5, 1, 0)   Log Likelihood               -8330.798\n",
      "Method:                       css-mle   S.D. of innovations        1670629.226\n",
      "Date:                Mon, 30 Apr 2018   AIC                          16675.595\n",
      "Time:                        13:08:07   BIC                          16705.492\n",
      "Sample:                    07-08-2007   HQIC                         16687.298\n",
      "                         - 08-20-2017                                         \n",
      "=================================================================================\n",
      "                    coef    std err          z      P>|z|      [0.025      0.975]\n",
      "---------------------------------------------------------------------------------\n",
      "const            89.7291   3.92e+04      0.002      0.998   -7.68e+04     7.7e+04\n",
      "ar.L1.D.sales    -0.5738      0.043    -13.372      0.000      -0.658      -0.490\n",
      "ar.L2.D.sales    -0.2753      0.050     -5.558      0.000      -0.372      -0.178\n",
      "ar.L3.D.sales    -0.0965      0.051     -1.902      0.058      -0.196       0.003\n",
      "ar.L4.D.sales    -0.0623      0.049     -1.261      0.208      -0.159       0.035\n",
      "ar.L5.D.sales     0.1542      0.043      3.609      0.000       0.070       0.238\n",
      "                                    Roots                                    \n",
      "=============================================================================\n",
      "                 Real           Imaginary           Modulus         Frequency\n",
      "-----------------------------------------------------------------------------\n",
      "AR.1           -1.0452           -0.7090j            1.2630           -0.4051\n",
      "AR.2           -1.0452           +0.7090j            1.2630            0.4051\n",
      "AR.3            0.2418           -1.4010j            1.4217           -0.2228\n",
      "AR.4            0.2418           +1.4010j            1.4217            0.2228\n",
      "AR.5            2.0109           -0.0000j            2.0109           -0.0000\n",
      "-----------------------------------------------------------------------------\n"
     ]
    },
    {
     "data": {
      "image/png": "[encoded data removed]",
      "text/plain": [
       "<matplotlib.figure.Figure at 0xa4e1400>"
      ]
     },
     "metadata": {},
     "output_type": "display_data"
    },
    {
     "data": {
      "image/png": "[encoded data removed]",
      "text/plain": [
       "<matplotlib.figure.Figure at 0xa7f6b00>"
      ]
     },
     "metadata": {},
     "output_type": "display_data"
    },
    {
     "name": "stdout",
     "output_type": "stream",
     "text": [
      "                  0\n",
      "count  5.290000e+02\n",
      "mean   3.697704e+01\n",
      "std    1.672211e+06\n",
      "min   -7.579948e+06\n",
      "25%   -5.171702e+04\n",
      "50%   -1.306289e+03\n",
      "75%    3.901400e+04\n",
      "max    1.838880e+07\n",
      "Train/test split\n",
      "About to FOR loop\n",
      "predicted=53539.169001, expected=49400.000000\n",
      "predicted=71954.445974, expected=85300.000000\n",
      "predicted=49837.533185, expected=84400.000000\n",
      "predicted=82739.807428, expected=133283.333960\n",
      "predicted=108837.106257, expected=91583.333960\n",
      "predicted=90858.066109, expected=71883.333960\n",
      "predicted=107324.085326, expected=104883.333960\n",
      "predicted=86501.954531, expected=85583.333960\n",
      "predicted=102642.972011, expected=66283.333960\n",
      "predicted=70293.873908, expected=165983.333960\n",
      "predicted=101254.490777, expected=196483.333960\n",
      "predicted=168144.212304, expected=178583.333960\n",
      "predicted=176174.703766, expected=149083.333960\n",
      "predicted=164224.675678, expected=218683.333960\n",
      "predicted=208712.337155, expected=235183.333960\n",
      "predicted=222623.549129, expected=343783.333960\n",
      "predicted=256526.426230, expected=349600.000000\n",
      "predicted=277355.875732, expected=278400.000000\n",
      "predicted=305750.483050, expected=455083.333960\n",
      "predicted=182099.023382, expected=524400.000000\n",
      "predicted=316703.558876, expected=540000.000000\n",
      "predicted=347394.940867, expected=468283.333960\n",
      "predicted=291053.590398, expected=512683.333960\n",
      "predicted=403596.746356, expected=577483.333960\n",
      "predicted=377520.180699, expected=344683.333960\n",
      "predicted=296335.286089, expected=578983.345236\n",
      "predicted=338088.593209, expected=697716.681075\n",
      "predicted=444611.711069, expected=788566.682954\n",
      "predicted=522779.305195, expected=817650.016914\n",
      "predicted=554069.858152, expected=757083.348995\n",
      "predicted=655538.022597, expected=849233.350874\n",
      "predicted=724308.996700, expected=1059916.688592\n",
      "predicted=703003.942753, expected=1150766.690472\n",
      "predicted=864887.029444, expected=1998700.041346\n",
      "predicted=1168906.166996, expected=1907850.039466\n",
      "predicted=1503209.235467, expected=1695866.701748\n",
      "predicted=1564026.982625, expected=1605016.699868\n",
      "predicted=1510306.918721, expected=1483883.364029\n",
      "predicted=1568688.600910, expected=1211333.358391\n",
      "predicted=1319524.548183, expected=1059916.688592\n",
      "predicted=1061810.629555, expected=999350.020673\n",
      "predicted=1202225.166814, expected=908500.018793\n",
      "predicted=1062242.464274, expected=726800.015035\n",
      "predicted=935853.180830, expected=757083.348995\n",
      "predicted=749152.310493, expected=545100.011276\n",
      "predicted=699349.248417, expected=302833.339598\n",
      "predicted=474947.200198, expected=272550.005638\n",
      "predicted=289793.187458, expected=181700.003759\n",
      "predicted=263937.639493, expected=151416.669799\n",
      "predicted=143668.802689, expected=181700.003759\n",
      "predicted=88349.183413, expected=151416.669799\n",
      "predicted=145610.192480, expected=90850.001879\n",
      "predicted=36537.219523, expected=90850.001879\n",
      "predicted=2626.408776, expected=90850.001879\n",
      "predicted=-16099.962966, expected=60566.667920\n",
      "predicted=-21809.470251, expected=30283.333960\n",
      "predicted=-31156.574960, expected=30283.333960\n",
      "predicted=-45553.086817, expected=30283.333960\n",
      "predicted=-23472.021913, expected=30283.333960\n",
      "predicted=-34637.237526, expected=0.000000\n",
      "predicted=-83114.531010, expected=0.000000\n",
      "predicted=-84811.495706, expected=0.000000\n",
      "predicted=-89913.424782, expected=0.000000\n",
      "predicted=-80209.571043, expected=0.000000\n",
      "predicted=-109451.837690, expected=0.000000\n",
      "predicted=-91722.373076, expected=0.000000\n",
      "predicted=-62050.484091, expected=0.000000\n",
      "predicted=-122484.893009, expected=0.000000\n",
      "predicted=-79800.598198, expected=0.000000\n",
      "predicted=-75549.265018, expected=0.000000\n",
      "predicted=-97840.055470, expected=0.000000\n",
      "predicted=-70843.046487, expected=0.000000\n",
      "predicted=-113808.872718, expected=0.000000\n",
      "predicted=-45308.679958, expected=0.000000\n",
      "predicted=-64020.739589, expected=0.000000\n",
      "predicted=-102178.979120, expected=0.000000\n",
      "predicted=-99241.136262, expected=0.000000\n",
      "predicted=-88679.925957, expected=0.000000\n",
      "predicted=-87755.854133, expected=0.000000\n",
      "predicted=-63717.706191, expected=0.000000\n",
      "predicted=-110609.989883, expected=0.000000\n",
      "predicted=-72121.677558, expected=0.000000\n",
      "predicted=-93433.491516, expected=0.000000\n",
      "predicted=-73638.470213, expected=0.000000\n",
      "predicted=-105598.560850, expected=0.000000\n",
      "predicted=-103242.239342, expected=0.000000\n",
      "predicted=-66798.053865, expected=0.000000\n",
      "predicted=-55021.403109, expected=0.000000\n",
      "predicted=-70293.302669, expected=0.000000\n",
      "predicted=-72097.770616, expected=0.000000\n",
      "predicted=-94343.360519, expected=0.000000\n",
      "predicted=-34223.207857, expected=0.000000\n",
      "predicted=-61724.371503, expected=0.000000\n",
      "predicted=-65754.463754, expected=0.000000\n",
      "predicted=-66692.238649, expected=0.000000\n",
      "predicted=-75792.607433, expected=0.000000\n",
      "predicted=-71452.687053, expected=0.000000\n",
      "predicted=-60857.657738, expected=0.000000\n",
      "predicted=-90727.540800, expected=48000.000000\n",
      "predicted=-21878.625340, expected=0.000000\n",
      "predicted=-24007.264123, expected=71200.000000\n",
      "predicted=-4446.361128, expected=11200.000000\n",
      "predicted=-18067.702418, expected=11400.000000\n",
      "predicted=-46068.805054, expected=30500.000000\n",
      "predicted=-61248.235393, expected=10200.000000\n",
      "predicted=-15984.575713, expected=30700.000000\n",
      "predicted=-52127.062404, expected=1500.000000\n",
      "predicted=-41895.774468, expected=10100.000000\n",
      "predicted=-49562.625120, expected=10400.000000\n",
      "predicted=-55325.966472, expected=10700.000000\n",
      "predicted=-38403.597362, expected=12500.000000\n",
      "predicted=-56929.091282, expected=20400.000000\n",
      "predicted=-24187.134221, expected=5400.000000\n",
      "predicted=-43958.004467, expected=10600.000000\n",
      "predicted=-43170.098243, expected=12500.000000\n",
      "predicted=-46408.588228, expected=55400.000000\n",
      "predicted=-16646.826895, expected=13900.000000\n",
      "predicted=-24376.472660, expected=10000.000000\n",
      "predicted=-32049.151727, expected=13800.000000\n",
      "predicted=-58457.462666, expected=48883.333960\n",
      "predicted=-12072.349335, expected=55783.333960\n",
      "predicted=-1320.067617, expected=30283.333960\n",
      "predicted=22912.376310, expected=30583.333960\n",
      "predicted=-20869.913862, expected=44383.333960\n",
      "predicted=-1792.650945, expected=42683.333960\n",
      "predicted=3793.559799, expected=11200.000000\n",
      "predicted=9455.047729, expected=20100.000000\n",
      "predicted=-22664.668686, expected=12800.000000\n",
      "predicted=-34319.314904, expected=33600.000000\n",
      "predicted=-20804.579169, expected=22300.000000\n",
      "predicted=588.552862, expected=43983.333960\n",
      "predicted=37265.043578, expected=53583.333960\n",
      "predicted=32136.262394, expected=52883.333960\n",
      "predicted=43283.162793, expected=55883.333960\n",
      "predicted=38811.002118, expected=55983.333960\n",
      "predicted=57305.032260, expected=43483.333960\n",
      "predicted=47680.323059, expected=44283.333960\n",
      "predicted=40223.256875, expected=58083.333960\n",
      "predicted=40256.093113, expected=56983.333960\n",
      "predicted=19633.160101, expected=21800.000000\n",
      "predicted=44112.237934, expected=119283.333960\n",
      "predicted=69115.624855, expected=138266.667920\n",
      "predicted=92719.558802, expected=66766.667920\n",
      "predicted=100454.435448, expected=91966.667920\n",
      "predicted=60066.674088, expected=104950.001879\n",
      "predicted=103894.897971, expected=131350.001879\n",
      "predicted=108556.853816, expected=169450.001879\n",
      "predicted=96178.991888, expected=126050.001879\n",
      "predicted=154578.417544, expected=153150.001879\n",
      "predicted=173477.186348, expected=79466.667920\n",
      "predicted=102510.430882, expected=87966.667920\n",
      "predicted=81486.451342, expected=75766.667920\n",
      "predicted=35877.118198, expected=60683.333960\n",
      "predicted=61525.820371, expected=84683.333960\n",
      "predicted=63215.695071, expected=44083.333960\n",
      "predicted=34798.094418, expected=45383.333960\n",
      "predicted=57819.159228, expected=21500.000000\n",
      "predicted=23643.132564, expected=10200.000000\n",
      "predicted=-9937.729977, expected=21600.000000\n",
      "predicted=30790.415725, expected=12000.000000\n",
      "predicted=1467.467283, expected=34900.000000\n",
      "predicted=33513.237495, expected=13100.000000\n",
      "predicted=14806.208436, expected=41783.333960\n",
      "predicted=26371.538595, expected=52283.333960\n",
      "predicted=45357.421689, expected=52683.333960\n",
      "predicted=48553.781010, expected=53183.333960\n",
      "predicted=58500.873820, expected=51683.333960\n",
      "predicted=54228.841228, expected=117883.333960\n",
      "predicted=90073.042009, expected=64083.333960\n",
      "predicted=72359.709667, expected=116083.333960\n",
      "predicted=120876.845364, expected=52083.333960\n",
      "predicted=58014.966821, expected=42983.333960\n",
      "predicted=35360.170543, expected=65083.333960\n"
     ]
    },
    {
     "name": "stdout",
     "output_type": "stream",
     "text": [
      "predicted=60665.030542, expected=53383.333960\n",
      "predicted=43048.902263, expected=50383.333960\n",
      "predicted=63999.398185, expected=84766.667920\n",
      "predicted=76237.812422, expected=97766.667920\n",
      "predicted=96116.017797, expected=155966.667920\n",
      "predicted=131929.803005, expected=97366.667920\n",
      "predicted=109001.981767, expected=95666.667920\n",
      "predicted=104528.250060, expected=81066.667920\n",
      "Out of FOR loop\n",
      "Test MSE: 23131798323.254\n"
     ]
    },
    {
     "data": {
      "image/png": "[encoded data removed]",
      "text/plain": [
       "<matplotlib.figure.Figure at 0xad99dd8>"
      ]
     },
     "metadata": {},
     "output_type": "display_data"
    },
    {
     "name": "stdout",
     "output_type": "stream",
     "text": [
      "This took:  271.21299982070923  seconds\n"
     ]
    }
   ],
   "source": [
    "ARIMA();"
   ]
  },
  {
   "cell_type": "code",
   "execution_count": 27,
   "metadata": {
    "ExecuteTime": {
     "end_time": "2018-04-16T19:20:42.309859Z",
     "start_time": "2018-04-16T19:20:42.307856Z"
    },
    "collapsed": true
   },
   "outputs": [],
   "source": [
    "def NN_stuff(tst, trn):\n",
    "    ''' All you, Collin '''\n",
    "    pass"
   ]
  },
  {
   "cell_type": "code",
   "execution_count": 48,
   "metadata": {
    "ExecuteTime": {
     "end_time": "2018-04-16T19:20:42.766430Z",
     "start_time": "2018-04-16T19:20:42.763426Z"
    },
    "collapsed": true
   },
   "outputs": [],
   "source": [
    "def lasso_stuff(p=0, q=0):\n",
    "    \n",
    "    ########################### Reading in data / Preprocessing in general\n",
    "    #data = impmat()\n",
    "\n",
    "    df = dt = pd.HDFStore(\"drugdata.h5\")['dat']\n",
    "    df['year'], df['month'] = df['time'].dt.year, df['time'].dt.month #This might never be used actually\n",
    "    \n",
    "    #NDC = 4 has the highest total sales\n",
    "    ndc4 = df.loc[df[\"NDC\"]==4]  #Finds all the drugs of one particular NDC (4)\n",
    "    \n",
    "    ndc4TotalSales = ndc4.groupby('time')['Qty_Ord_(EU)'].sum()   #Sums total sales at any given date for that drug\n",
    "    ndc4TotalSales = np.array(ndc4TotalSales)\n",
    "    \n",
    "    ndc4Times = ndc4.time.unique()  #All the times where dataset has sales on this drug\n",
    "    ndc4Times = np.array(ndc4Times)\n",
    "    ndc4Times.sort()\n",
    "    \n",
    "    \n",
    "    plt.plot(ndc4Times, ndc4TotalSales, 'bo')  #Plots drug sales over time\n",
    "    plt.show()\n",
    "\n",
    "    #autocorrelation_plot(ndc4TotalSales)  #The x value of where this plot first crosses y=0.5  \n",
    "    #plt.show()                            # is the ideal choice of the first 'order' model parameter\n",
    "    \n",
    "    df2 = pd.DataFrame(index=ndc4Times, data=ndc4TotalSales, columns=['sales'])\n",
    "    \n",
    "    df2.plot()\n",
    "    plt.show()\n",
    "    \n",
    "    \n",
    "    \n",
    "    \n",
    "    \n",
    "    ############LASSO###############\n",
    "    \n",
    "    X = ndc4Times\n",
    "    Y1 = ndc4TotalSales\n",
    "    \n",
    "    start = time.time()\n",
    "    \n",
    "    a=10  #should work based on prior testing\n",
    "    \n",
    "    Y_past = [ Y1 ]\n",
    "    for i in range(a):                #makes multi-dimensional input\n",
    "        Yi = Y_past[len(Y_past)-1]    # each datapoint works off of the past a=10 datapoints \n",
    "        Yi = np.insert(Yi, 0, 0)\n",
    "        Y_past.append(Yi[0:len(Y1)])\n",
    "    Y_past = np.matrix(Y_past)        \n",
    "    \n",
    "    \n",
    "    Y_past = np.delete(Y_past, 0, 0)    #gets rid of current values because that's expected output, not input\n",
    "    Y = Y1\n",
    "\n",
    "    Y_past = np.transpose(Y_past)\n",
    "\n",
    "    Xts = (X - np.datetime64('1970-01-01T00:00:00Z')) / np.timedelta64(1, 's')   #timestamps from datetime64s\n",
    "\n",
    "    Xts = Xts.reshape(Xts.shape[0], 1) #formatting\n",
    "\n",
    "    \n",
    "    IN = np.hstack((Xts, Y_past))   #concatenates input (current time with old sales from past a=10 datapoints)\n",
    "    \n",
    "    if p:\n",
    "        print(\"Input Shape: \")\n",
    "        print(IN.shape)\n",
    "    \n",
    "    size = int(IN.shape[0]*0.66)\n",
    "    X_train, X_test = IN[0:size,:], IN[size:IN.shape[0],:]\n",
    "    Y_train, Y_test = Y[0:size], Y[size: len(Y)]\n",
    "    X_train_64, X_test_64 = X[0:size], X[size: len(X)]\n",
    "    Y_train_64, Y_test_64 = Y[0:size], Y[size: len(Y)]\n",
    "    \n",
    "    Y_train = Y_train.reshape(-1, 1)    #formatting \n",
    "    Y_test = Y_test.reshape(-1, 1)\n",
    "    \n",
    "    if p:\n",
    "        print(\"X_train shape: \", X_train.shape)\n",
    "        print(\"X_test shape: \", X_test.shape)\n",
    "        print(\"Y_train shape: \", Y_train.shape)\n",
    "        print(\"Y_test shape: \", Y_test.shape)\n",
    "        print(\"X_train type: \", X_train.dtype)\n",
    "        print(\"X_test type: \", X_test.dtype)\n",
    "        print(\"Y_train type: \", Y_train.dtype)\n",
    "        print(\"Y_test type: \", Y_test.dtype)\n",
    "\n",
    "    regr = LassoCV()               #creates/fits model\n",
    "    regr.fit(X_train, Y_train)\n",
    "    \n",
    "    pred_trained = []\n",
    "    pred = []\n",
    "    for x1 in X_train:                        #predicts based on train data (just for the plot really)       \n",
    "        yHat_trained = regr.predict(x1)\n",
    "        pred_trained.append(yHat_trained)\n",
    "    for x in X_test:                          #predicts based on test data\n",
    "        yHat = regr.predict(x)\n",
    "        pred.append(yHat)\n",
    "        \n",
    "    #X_convert = X_train.reshape(X_train.shape[0])                 #old stuff used to verify time conversions\n",
    "    #X_convert = datetime.utcfromtimestamp(X_train[0,0])        #probably not necessary anymore\n",
    "    #X_test_64 = datetime.utcfromtimestamp(X_test)\n",
    "    #Y_test_64 = datetime.utcfromtimestamp(Y_test)\n",
    "    #pred_64 = datetime.utcfromtimestamp(pred)\n",
    "    #X_convert = np.datetime64(X_convert)\n",
    "    #X_test_64 = np.datetime64(X_test)\n",
    "    #Y_test_64 = np.datetime64(Y_test)\n",
    "    #pred_64 = np.datetime64(pred)\n",
    "    #print(X_convert)\n",
    "    \n",
    "    #plot\n",
    "    plt.plot(X_train_64, Y_train, color='green')\n",
    "    plt.plot(X_train_64, pred_trained, color='red')\n",
    "    plt.plot(X_test_64, pred, color='orange')\n",
    "    plt.plot(X_test_64, Y_test, color='blue')\n",
    "    plt.show()\n",
    "    \n",
    "    error = mean_squared_error(Y_test, pred)              #change to SMAPE?\n",
    "    print(\"Error: \", error)\n",
    "    \n",
    "    end = time.time()\n",
    "    "
   ]
  },
  {
   "cell_type": "code",
   "execution_count": 49,
   "metadata": {},
   "outputs": [
    {
     "data": {
      "image/png": "[encoded data removed]",
      "text/plain": [
       "<matplotlib.figure.Figure at 0xa8ef9e8>"
      ]
     },
     "metadata": {},
     "output_type": "display_data"
    },
    {
     "data": {
      "image/png": "[encoded data removed]",
      "text/plain": [
       "<matplotlib.figure.Figure at 0xa6ebcf8>"
      ]
     },
     "metadata": {},
     "output_type": "display_data"
    },
    {
     "name": "stdout",
     "output_type": "stream",
     "text": [
      "Input Shape: \n",
      "(530, 11)\n",
      "X_train shape:  (349, 11)\n",
      "X_test shape:  (181, 11)\n",
      "Y_train shape:  (349, 1)\n",
      "Y_test shape:  (181, 1)\n",
      "X_train type:  float64\n",
      "X_test type:  float64\n",
      "Y_train type:  float64\n",
      "Y_test type:  float64\n"
     ]
    },
    {
     "name": "stderr",
     "output_type": "stream",
     "text": [
      "C:\\Users\\Jack\\Anaconda3\\lib\\site-packages\\ipykernel_launcher.py:57: DeprecationWarning: parsing timezone aware datetimes is deprecated; this will raise an error in the future\n",
      "C:\\Users\\Jack\\Anaconda3\\lib\\site-packages\\sklearn\\linear_model\\coordinate_descent.py:1082: DataConversionWarning: A column-vector y was passed when a 1d array was expected. Please change the shape of y to (n_samples, ), for example using ravel().\n",
      "  y = column_or_1d(y, warn=True)\n"
     ]
    },
    {
     "data": {
      "image/png": "[encoded data removed]",
      "text/plain": [
       "<matplotlib.figure.Figure at 0xaddadd8>"
      ]
     },
     "metadata": {},
     "output_type": "display_data"
    },
    {
     "name": "stdout",
     "output_type": "stream",
     "text": [
      "Error:  812693774308.0\n"
     ]
    }
   ],
   "source": [
    "lasso_stuff(1);"
   ]
  },
  {
   "cell_type": "code",
   "execution_count": 163,
   "metadata": {
    "ExecuteTime": {
     "end_time": "2018-04-16T22:19:45.455390Z",
     "start_time": "2018-04-16T22:19:45.452387Z"
    },
    "code_folding": [
     0
    ],
    "collapsed": true
   },
   "outputs": [],
   "source": [
    "def testing_setup():\n",
    "    df = pd.HDFStore(\"drugdata.h5\")[\"dat\"]\n",
    "    [trn, tst] = frame_gen(2008)\n",
    "    dl = top_selling(1.5)\n",
    "    for drug in dl:\n",
    "        print(drug, trn[drug])"
   ]
  },
  {
   "cell_type": "markdown",
   "metadata": {
    "heading_collapsed": true
   },
   "source": [
    "## Plots"
   ]
  },
  {
   "cell_type": "code",
   "execution_count": 190,
   "metadata": {
    "ExecuteTime": {
     "end_time": "2018-04-16T23:26:12.454475Z",
     "start_time": "2018-04-16T23:26:12.444462Z"
    },
    "code_folding": [
     0
    ],
    "collapsed": true,
    "hidden": true
   },
   "outputs": [],
   "source": [
    "def Auto_regress(drug, X, lag_size, plots=0):\n",
    "    ''' need model for each drug id; maybe pass in main?\n",
    "        test data, train data\n",
    "        lag is number of previous vars\n",
    "        but, model chooses lag size?? '''\n",
    "    # sauce: https://machinelearningmastery.com/autoregression-models-time-series-forecasting-python/\n",
    "    #from sklearn.svm import SVR\n",
    "    from statsmodels.tsa.ar_model import AR\n",
    "    \n",
    "    # at this point all drugs have all data for all years, so we can generalize\n",
    "    X_trn = X[drug].values[:157] # first 3 years\n",
    "    X_tst = X[drug].values[157:] # next\n",
    "    if plots:\n",
    "        from statsmodels.graphics.tsaplots import plot_acf\n",
    "        plot_acf(X_trn, lags=lag_size)\n",
    "        plt.show()\n",
    "    model = AR(X_trn)\n",
    "    fits = model.fit()\n",
    "    print(\"Thetas:\", fits.params)\n",
    "    print(\"lag:\", fits.k_ar)\n",
    "    \n",
    "    pred = fits.predict(start=len(X_trn), end=len(X_trn)+len(X_tst)-1, dynamic=True)\n",
    "    from sklearn.metrics import mean_squared_error as mse\n",
    "    print(\"MSE:\", mse(X_tst, pred))\n",
    "    plt.plot(X_tst)\n",
    "    plt.plot(pred, color='red')\n",
    "    plt.show()"
   ]
  },
  {
   "cell_type": "code",
   "execution_count": 191,
   "metadata": {
    "ExecuteTime": {
     "end_time": "2018-04-16T23:26:12.735827Z",
     "start_time": "2018-04-16T23:26:12.724813Z"
    },
    "code_folding": [],
    "collapsed": true,
    "hidden": true
   },
   "outputs": [],
   "source": [
    "def main(lag_size):\n",
    "    dt = pd.HDFStore(\"drugdata.h5\")[\"dat\"]\n",
    "    # we are gonna add 3 to this. only want full years too, why not.\n",
    "    spread = [i for i in range(2008, 2013)]\n",
    "    dlist = top_selling(1.5)\n",
    "    \n",
    "    thetaset = np.zeros(shape=(len(dlist), lag_size))# what do we want here???\n",
    "    thetaset = pd.DataFrame(thetaset, index=dlist)\n",
    "    for year in spread: # sliding window for analysis\n",
    "        X = frame_gen(year)\n",
    "        for drug in dlist:\n",
    "            Auto_regress(drug,X,lag_size)\n",
    "        return(0)\n",
    "#         seth = svr_stuff(tst, trn)\n",
    "#         collin = nn_stuff(tst, trn)\n",
    "#         jack = ARIMA(tst, trn)\n",
    "#         maybe = lasso_stuff(tst, trn)\n",
    "#         which = [seth, collin, jack, maybe]\n",
    "#         who = [\"seth\", \"collin\", \"jack\", \"maybe\"]\n",
    "#         best_for_year = who[which.index(min(which))]\n",
    "#         print(\"The best for\", year, \"is\", best_for_year)\n",
    "        \n",
    "    "
   ]
  },
  {
   "cell_type": "code",
   "execution_count": 189,
   "metadata": {
    "ExecuteTime": {
     "end_time": "2018-04-16T23:25:43.738570Z",
     "start_time": "2018-04-16T23:24:45.534796Z"
    },
    "hidden": true
   },
   "outputs": [
    {
     "name": "stdout",
     "output_type": "stream",
     "text": [
      "Thetas: [ -2.53151887e+05   2.66899306e-01   2.87649176e-01   1.09347682e-01\n",
      "   7.83628909e-02   2.56090739e-01  -7.19345227e-02  -1.89046394e-01\n",
      "   2.05497932e-01  -4.30616389e-02   8.47304849e-02  -1.55375569e-01\n",
      "   2.83222764e-02   1.31231028e-01]\n",
      "lag: 13\n",
      "MSE: 3.21873256852e+12\n",
      "Thetas: [  2.37873932e+05   3.20859404e-01   2.69673384e-01   5.76518303e-02\n",
      "   1.40373714e-01   1.34357687e-01  -8.22844634e-02  -8.92731745e-02\n",
      "   6.59051487e-02   4.72977527e-02  -9.38356295e-02   4.40095060e-02\n",
      "  -6.46077536e-02   2.52229486e-02]\n",
      "lag: 13\n",
      "MSE: 151229615977.0\n",
      "Thetas: [ -3.50372707e+04   1.03009834e-01   2.35838907e-02   2.18393791e-01\n",
      "   9.28332923e-02   2.27667419e-01   1.12834534e-01  -6.87576875e-02\n",
      "   1.07012636e-01   3.19997227e-02   6.79399986e-02   2.56175693e-02\n",
      "   2.64057308e-02   1.46675072e-02]\n",
      "lag: 13\n",
      "MSE: 32225542952.5\n",
      "Thetas: [  5.04807334e+04   5.78984894e-02   4.80352043e-03   1.10902242e-01\n",
      "   1.36516665e-01   2.03507154e-01   9.56274071e-02  -2.07606367e-02\n",
      "  -9.14241318e-03   9.81542197e-02  -8.59356048e-02   1.37721972e-01\n",
      "   4.94071912e-02   1.19116838e-01]\n",
      "lag: 13\n",
      "MSE: 16511985192.7\n",
      "Thetas: [  9.05823262e+05   3.91528282e-02  -5.90147490e-03   5.86206891e-04\n",
      "   1.73637160e-01   2.52062204e-01   4.56752882e-02   7.45676147e-02\n",
      "   1.23589419e-01   3.65008792e-02  -5.37275714e-02   7.43407531e-02\n",
      "  -4.91778155e-02   8.15982163e-02]\n",
      "lag: 13\n",
      "MSE: 1.31705803587e+12\n",
      "Thetas: [  4.57660503e+05   2.76006289e-01   1.69367480e-01   5.98973856e-02\n",
      "  -6.35442665e-03   1.22877769e-01  -2.27638977e-01   4.20426690e-02\n",
      "  -3.57809894e-02   9.12636418e-02   6.49234580e-02   5.21278044e-02\n",
      "  -2.76916391e-01   1.25843282e-01]\n",
      "lag: 13\n",
      "MSE: 209544138277.0\n",
      "Thetas: [  1.90918205e+05   3.17513922e-01   3.16684086e-01   7.56830812e-02\n",
      "   1.03327591e-01   1.08056456e-01  -1.54172753e-01  -1.27863716e-01\n",
      "   1.59647381e-01   1.81927420e-02  -2.19393562e-02  -2.21115929e-02\n",
      "   6.79081699e-02  -5.04244058e-02]\n",
      "lag: 13\n",
      "MSE: 111265496750.0\n",
      "Thetas: [  9.85799820e+03   8.66925227e-02   3.68582024e-03  -1.37376145e-01\n",
      "   6.66591432e-02   1.79603458e-01  -4.34812081e-02   1.15891996e-01\n",
      "   1.54274641e-01   1.25810760e-01   9.00590230e-02   1.32220551e-01\n",
      "   6.36163942e-02   9.98421225e-02]\n",
      "lag: 13\n",
      "MSE: 3377148322.65\n",
      "Thetas: [  2.39582832e+05   2.43045330e-01   1.32055972e-01   1.11554470e-01\n",
      "  -4.04552177e-02   2.16999144e-01   3.90849559e-02  -6.40233202e-02\n",
      "  -2.98911063e-02   6.99871046e-02  -3.24397396e-02  -1.70647686e-01\n",
      "  -7.38927228e-02   1.27425231e-01]\n",
      "lag: 13\n",
      "MSE: 31517711080.7\n",
      "Thetas: [  1.02955114e+05  -9.75064596e-03  -9.32753587e-02   1.79271844e-01\n",
      "   1.53639695e-01   2.02121784e-01   7.59750460e-02  -4.19045797e-02\n",
      "  -2.61109603e-02   1.93301891e-01   7.19161579e-02   1.45806665e-01\n",
      "  -4.75530795e-02   1.35592678e-01]\n",
      "lag: 13\n",
      "MSE: 301740933340.0\n"
     ]
    },
    {
     "data": {
      "text/plain": [
       "0"
      ]
     },
     "execution_count": 189,
     "metadata": {},
     "output_type": "execute_result"
    }
   ],
   "source": [
    "main(10)"
   ]
  },
  {
   "cell_type": "code",
   "execution_count": null,
   "metadata": {
    "collapsed": true,
    "hidden": true
   },
   "outputs": [],
   "source": [
    "cors: [5, 6, 0, 6, 5, 0, 5, 6, 6, 8]"
   ]
  }
 ],
 "metadata": {
  "anaconda-cloud": {},
  "kernelspec": {
   "display_name": "Python 3",
   "language": "python",
   "name": "python3"
  },
  "language_info": {
   "codemirror_mode": {
    "name": "ipython",
    "version": 3
   },
   "file_extension": ".py",
   "mimetype": "text/x-python",
   "name": "python",
   "nbconvert_exporter": "python",
   "pygments_lexer": "ipython3",
   "version": "3.6.1"
  }
 },
 "nbformat": 4,
 "nbformat_minor": 2
}
