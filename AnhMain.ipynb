{
 "cells": [
  {
   "cell_type": "code",
   "execution_count": 24,
   "metadata": {
    "ExecuteTime": {
     "end_time": "2018-05-07T22:28:28.504789Z",
     "start_time": "2018-05-07T22:28:28.348530Z"
    }
   },
   "outputs": [],
   "source": [
    "#from drug_analysis import *\n",
    "%reload_ext autoreload\n",
    "import NotebookLoader as NL\n",
    "nl = NL.NotebookLoader()"
   ]
  },
  {
   "cell_type": "code",
   "execution_count": 25,
   "metadata": {
    "ExecuteTime": {
     "end_time": "2018-05-07T22:28:29.723607Z",
     "start_time": "2018-05-07T22:28:29.536097Z"
    }
   },
   "outputs": [
    {
     "name": "stdout",
     "output_type": "stream",
     "text": [
      "importing Jupyter notebook from drug_analysis.ipynb\n",
      "The autoreload extension is already loaded. To reload it, use:\n",
      "  %reload_ext autoreload\n"
     ]
    }
   ],
   "source": [
    "DA = nl.load_module('drug_analysis')"
   ]
  },
  {
   "cell_type": "code",
   "execution_count": 26,
   "metadata": {
    "ExecuteTime": {
     "end_time": "2018-05-07T22:28:43.708754Z",
     "start_time": "2018-05-07T22:28:37.005258Z"
    }
   },
   "outputs": [
    {
     "data": {
      "text/plain": [
       "True"
      ]
     },
     "execution_count": 26,
     "metadata": {},
     "output_type": "execute_result"
    }
   ],
   "source": [
    "DA.impmat()\n",
    "DA.rem_neg_vals()"
   ]
  },
  {
   "cell_type": "code",
   "execution_count": 27,
   "metadata": {
    "ExecuteTime": {
     "end_time": "2018-05-07T22:31:59.282043Z",
     "start_time": "2018-05-07T22:31:59.250790Z"
    }
   },
   "outputs": [],
   "source": [
    "def FC(file, h=1, watch = 0):    \n",
    "    dt = pd.HDFStore(\"drugdata.h5\")[\"dat\"]\n",
    "    # we are gonna add 3 to this. only want full years too, why not.\n",
    "    spread = [i for i in range(2008, 2014)]\n",
    "    dlist = DA.top_selling(1.5)\n",
    "    with open(file, \"w\") as f:\n",
    "        if watch:\n",
    "            print(h)\n",
    "        for year in spread: # sliding window for analysis\n",
    "            [trn, tst] = DA,frame_gen(year) # get train and test data for given time\n",
    "            if watch:\n",
    "                print(year)\n",
    "            for drug in dlist:\n",
    "\n",
    "                tn = trn[drug]\n",
    "                tt = tst[drug]\n",
    "                #seth = svr_stuff(tst, trn, h)\n",
    "                collin = DA.NN_stuff(tt, tn, drug, h)\n",
    "                jack2 = DA.lasso_stuff(tn, tt, drug, h)\n",
    "                jack = DA.ARIMA_stuff(tn, tt, drug, h)\n",
    "                collin2 = DA.LSTM_stuff(tt, tn, drug, h)\n",
    "\n",
    "                which = [collin, jack, jack2, collin2]\n",
    "                who = [\"NN\", \"LASSO\", \"ARIMA\", \"LSTM\"]\n",
    "                best_for_year = who[which.index(min(which))]\n",
    "                #print(\"The best for\", year, \"is\", best_for_year, \"on drug\", drug)\n",
    "                outstr_all = str(year)+\",\"+str(drug)+\",0\"+\",\"+str(collin)+ \",\" + str(h) + \"\\n\"\n",
    "                outstr_all += str(year)+\",\"+str(drug)+\",1\"+\",\"+str(jack)+ \",\" + str(h) + \"\\n\"\n",
    "                outstr_all += str(year)+\",\"+str(drug)+\",2\"+\",\"+str(jack2)+ \",\" + str(h) + \"\\n\"\n",
    "                outstr_all += str(year)+\",\"+str(drug)+\",3\"+\",\"+str(collin2)+ \",\" + str(h) + \"\\n\"\n",
    "                #outstr = str(year)+\",\"+str(drug)+\",\"+str(best_for_year)+\",\"+str(min(which))+\"\\n\"\n",
    "                f.write(outstr_all)\n",
    "    f.closed"
   ]
  },
  {
   "cell_type": "code",
   "execution_count": null,
   "metadata": {},
   "outputs": [],
   "source": [
    "FC(\"1_week_out.txt\", watch=True)"
   ]
  }
 ],
 "metadata": {
  "kernelspec": {
   "display_name": "Python [conda root]",
   "language": "python",
   "name": "conda-root-py"
  },
  "language_info": {
   "codemirror_mode": {
    "name": "ipython",
    "version": 3
   },
   "file_extension": ".py",
   "mimetype": "text/x-python",
   "name": "python",
   "nbconvert_exporter": "python",
   "pygments_lexer": "ipython3",
   "version": "3.5.5"
  }
 },
 "nbformat": 4,
 "nbformat_minor": 2
}
